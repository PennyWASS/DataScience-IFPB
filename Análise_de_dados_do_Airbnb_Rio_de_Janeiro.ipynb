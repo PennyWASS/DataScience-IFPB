{
  "nbformat": 4,
  "nbformat_minor": 0,
  "metadata": {
    "colab": {
      "provenance": [],
      "collapsed_sections": [],
      "include_colab_link": true
    },
    "kernelspec": {
      "name": "python3",
      "display_name": "Python 3"
    }
  },
  "cells": [
    {
      "cell_type": "markdown",
      "metadata": {
        "id": "view-in-github",
        "colab_type": "text"
      },
      "source": [
        "<a href=\"https://colab.research.google.com/github/PennyWASS/DataScience-IFPB/blob/main/An%C3%A1lise_de_dados_do_Airbnb_Rio_de_Janeiro.ipynb\" target=\"_parent\"><img src=\"https://colab.research.google.com/assets/colab-badge.svg\" alt=\"Open In Colab\"/></a>"
      ]
    },
    {
      "cell_type": "markdown",
      "metadata": {
        "id": "kLI0gJtzDGuQ"
      },
      "source": [
        "# Análise dos Dados do Airbnb - *Rio de Janeiro*\n",
        "<center><img alt=\"Analisando Airbnb\" src=\"https://s2.glbimg.com/SQme7SEDxxzygayJePyYvslN_IQ=/0x0:6000x4000/924x0/smart/filters:strip_icc()/i.s3.glbimg.com/v1/AUTH_f035dd6fd91c438fa04ab718d608bbaa/internal_photos/bs/2019/O/i/2YANHcRYGFBB1dPwPZGw/agustin-diaz-7f65hdp0-e0-unsplash.jpg\"></center>\n",
        "\n",
        "O [Airbnb](https://www.airbnb.com.br/) é um serviço comunitário on-line para as pessoas anunciarem, descobrirem e reservarem alojamentos e hospedagens alternativas, disponibilizando uma plataforma de pesquisa e reserva entre quem oferece alojamento e turistas que procuram arrendamentos.\n",
        "\n",
        "Contando com mais de 500.000 anúncios em mais de 35.000 cidades e 192 países. Atualmente é a maior empresa hoteleira, embora não tenha hotéis. Considerando tais colocações e fatores, por meio do portal Inside Airbnb, abundantes quantidades de dados podem ser baixadas para desenvolver projetos e soluções de ciência de dados.\n",
        "\n",
        "Uma das iniciativas do Airbnb é disponibilizar dados do site, para algumas das principais cidades do mundo. Por meio do portal [Inside Airbnb](http://insideairbnb.com/get-the-data.html), é possível baixar uma grande quantidade de dados para desenvolver projetos e soluções de *Data Science*.\n",
        "\n",
        "<center><img alt=\"Analisando Airbnb\" width=\"10%\" src=\"https://www.area360.com.au/wp-content/uploads/2017/09/airbnb-logo.jpg\"></center>\n",
        "\n",
        "**Neste *notebook*, iremos analisar os dados referentes à cidade d Rio de Janeiro, e ver quais insights podem ser extraídos a partir de dados brutos.**"
      ]
    },
    {
      "cell_type": "code",
      "metadata": {
        "id": "Vhp2wMPgJ6zX"
      },
      "source": [
        "#Importando os pacotes necessarios:\n",
        "import pandas as pd\n",
        "import matplotlib.pyplot as plt"
      ],
      "execution_count": null,
      "outputs": []
    },
    {
      "cell_type": "markdown",
      "metadata": {
        "id": "0zxQHhIUDF_2"
      },
      "source": [
        "## Obtenção dos Dados\n"
      ]
    },
    {
      "cell_type": "code",
      "metadata": {
        "id": "tUmoAT8DLQ5T",
        "colab": {
          "base_uri": "https://localhost:8080/"
        },
        "outputId": "4a52f1b3-f03f-40fd-e96d-eface43079ba"
      },
      "source": [
        "#Importando o arquivo listings.csv para um DataFrame:\n",
        "df = pd.read_csv('http://data.insideairbnb.com/brazil/rj/rio-de-janeiro/2022-06-20/visualisations/listings.csv')\n",
        "\n",
        "#Apresentando as 5 primeiras entradas:\n",
        "df.head()"
      ],
      "execution_count": null,
      "outputs": [
        {
          "output_type": "execute_result",
          "data": {
            "text/plain": [
              "                   id                                               name  \\\n",
              "0               17878  Very Nice 2Br in Copacabana w. balcony, fast WiFi   \n",
              "1  556930647599893392   Venha passar uma pernoite em um veleiro na Urca!   \n",
              "2             1174007                  100% Best View In Copa In Suite 2   \n",
              "3             8410797  Ipanema(Arpoador) 100mdo Mar/ Jan & Carnaval +Fev   \n",
              "4            28053241     Navegar a  Bordo de um Veleiro Francês no Rio!   \n",
              "\n",
              "     host_id    host_name  neighbourhood_group neighbourhood  latitude  \\\n",
              "0      68997     Matthias                  NaN    Copacabana -22.96599   \n",
              "1  198206849      Andréia                  NaN          Urca -22.94781   \n",
              "2    3962758  Thiago Luiz                  NaN    Copacabana -22.97277   \n",
              "3   42038091       Sheila                  NaN       Ipanema -22.98871   \n",
              "4  193860988      Luciano                  NaN          Urca -22.95056   \n",
              "\n",
              "   longitude        room_type  price  minimum_nights  number_of_reviews  \\\n",
              "0  -43.17940  Entire home/apt    350               5                272   \n",
              "1  -43.16351     Private room    280               1                  1   \n",
              "2  -43.17966     Private room    107               2                177   \n",
              "3  -43.19334     Private room   1000               3                  1   \n",
              "4  -43.17175     Private room   1850               2                  0   \n",
              "\n",
              "  last_review  reviews_per_month  calculated_host_listings_count  \\\n",
              "0  2022-04-23               1.87                               1   \n",
              "1  2022-02-19               0.25                               1   \n",
              "2  2022-06-07               1.69                               6   \n",
              "3  2017-09-28               0.02                               3   \n",
              "4         NaN                NaN                               1   \n",
              "\n",
              "   availability_365  number_of_reviews_ltm  license  \n",
              "0               311                      8      NaN  \n",
              "1               365                      1      NaN  \n",
              "2               357                     29      NaN  \n",
              "3               362                      0      NaN  \n",
              "4               180                      0      NaN  "
            ],
            "text/html": [
              "\n",
              "  <div id=\"df-d1d6896e-eac6-43f2-9acf-a6196a9e930b\">\n",
              "    <div class=\"colab-df-container\">\n",
              "      <div>\n",
              "<style scoped>\n",
              "    .dataframe tbody tr th:only-of-type {\n",
              "        vertical-align: middle;\n",
              "    }\n",
              "\n",
              "    .dataframe tbody tr th {\n",
              "        vertical-align: top;\n",
              "    }\n",
              "\n",
              "    .dataframe thead th {\n",
              "        text-align: right;\n",
              "    }\n",
              "</style>\n",
              "<table border=\"1\" class=\"dataframe\">\n",
              "  <thead>\n",
              "    <tr style=\"text-align: right;\">\n",
              "      <th></th>\n",
              "      <th>id</th>\n",
              "      <th>name</th>\n",
              "      <th>host_id</th>\n",
              "      <th>host_name</th>\n",
              "      <th>neighbourhood_group</th>\n",
              "      <th>neighbourhood</th>\n",
              "      <th>latitude</th>\n",
              "      <th>longitude</th>\n",
              "      <th>room_type</th>\n",
              "      <th>price</th>\n",
              "      <th>minimum_nights</th>\n",
              "      <th>number_of_reviews</th>\n",
              "      <th>last_review</th>\n",
              "      <th>reviews_per_month</th>\n",
              "      <th>calculated_host_listings_count</th>\n",
              "      <th>availability_365</th>\n",
              "      <th>number_of_reviews_ltm</th>\n",
              "      <th>license</th>\n",
              "    </tr>\n",
              "  </thead>\n",
              "  <tbody>\n",
              "    <tr>\n",
              "      <th>0</th>\n",
              "      <td>17878</td>\n",
              "      <td>Very Nice 2Br in Copacabana w. balcony, fast WiFi</td>\n",
              "      <td>68997</td>\n",
              "      <td>Matthias</td>\n",
              "      <td>NaN</td>\n",
              "      <td>Copacabana</td>\n",
              "      <td>-22.96599</td>\n",
              "      <td>-43.17940</td>\n",
              "      <td>Entire home/apt</td>\n",
              "      <td>350</td>\n",
              "      <td>5</td>\n",
              "      <td>272</td>\n",
              "      <td>2022-04-23</td>\n",
              "      <td>1.87</td>\n",
              "      <td>1</td>\n",
              "      <td>311</td>\n",
              "      <td>8</td>\n",
              "      <td>NaN</td>\n",
              "    </tr>\n",
              "    <tr>\n",
              "      <th>1</th>\n",
              "      <td>556930647599893392</td>\n",
              "      <td>Venha passar uma pernoite em um veleiro na Urca!</td>\n",
              "      <td>198206849</td>\n",
              "      <td>Andréia</td>\n",
              "      <td>NaN</td>\n",
              "      <td>Urca</td>\n",
              "      <td>-22.94781</td>\n",
              "      <td>-43.16351</td>\n",
              "      <td>Private room</td>\n",
              "      <td>280</td>\n",
              "      <td>1</td>\n",
              "      <td>1</td>\n",
              "      <td>2022-02-19</td>\n",
              "      <td>0.25</td>\n",
              "      <td>1</td>\n",
              "      <td>365</td>\n",
              "      <td>1</td>\n",
              "      <td>NaN</td>\n",
              "    </tr>\n",
              "    <tr>\n",
              "      <th>2</th>\n",
              "      <td>1174007</td>\n",
              "      <td>100% Best View In Copa In Suite 2</td>\n",
              "      <td>3962758</td>\n",
              "      <td>Thiago Luiz</td>\n",
              "      <td>NaN</td>\n",
              "      <td>Copacabana</td>\n",
              "      <td>-22.97277</td>\n",
              "      <td>-43.17966</td>\n",
              "      <td>Private room</td>\n",
              "      <td>107</td>\n",
              "      <td>2</td>\n",
              "      <td>177</td>\n",
              "      <td>2022-06-07</td>\n",
              "      <td>1.69</td>\n",
              "      <td>6</td>\n",
              "      <td>357</td>\n",
              "      <td>29</td>\n",
              "      <td>NaN</td>\n",
              "    </tr>\n",
              "    <tr>\n",
              "      <th>3</th>\n",
              "      <td>8410797</td>\n",
              "      <td>Ipanema(Arpoador) 100mdo Mar/ Jan &amp; Carnaval +Fev</td>\n",
              "      <td>42038091</td>\n",
              "      <td>Sheila</td>\n",
              "      <td>NaN</td>\n",
              "      <td>Ipanema</td>\n",
              "      <td>-22.98871</td>\n",
              "      <td>-43.19334</td>\n",
              "      <td>Private room</td>\n",
              "      <td>1000</td>\n",
              "      <td>3</td>\n",
              "      <td>1</td>\n",
              "      <td>2017-09-28</td>\n",
              "      <td>0.02</td>\n",
              "      <td>3</td>\n",
              "      <td>362</td>\n",
              "      <td>0</td>\n",
              "      <td>NaN</td>\n",
              "    </tr>\n",
              "    <tr>\n",
              "      <th>4</th>\n",
              "      <td>28053241</td>\n",
              "      <td>Navegar a  Bordo de um Veleiro Francês no Rio!</td>\n",
              "      <td>193860988</td>\n",
              "      <td>Luciano</td>\n",
              "      <td>NaN</td>\n",
              "      <td>Urca</td>\n",
              "      <td>-22.95056</td>\n",
              "      <td>-43.17175</td>\n",
              "      <td>Private room</td>\n",
              "      <td>1850</td>\n",
              "      <td>2</td>\n",
              "      <td>0</td>\n",
              "      <td>NaN</td>\n",
              "      <td>NaN</td>\n",
              "      <td>1</td>\n",
              "      <td>180</td>\n",
              "      <td>0</td>\n",
              "      <td>NaN</td>\n",
              "    </tr>\n",
              "  </tbody>\n",
              "</table>\n",
              "</div>\n",
              "      <button class=\"colab-df-convert\" onclick=\"convertToInteractive('df-d1d6896e-eac6-43f2-9acf-a6196a9e930b')\"\n",
              "              title=\"Convert this dataframe to an interactive table.\"\n",
              "              style=\"display:none;\">\n",
              "        \n",
              "  <svg xmlns=\"http://www.w3.org/2000/svg\" height=\"24px\"viewBox=\"0 0 24 24\"\n",
              "       width=\"24px\">\n",
              "    <path d=\"M0 0h24v24H0V0z\" fill=\"none\"/>\n",
              "    <path d=\"M18.56 5.44l.94 2.06.94-2.06 2.06-.94-2.06-.94-.94-2.06-.94 2.06-2.06.94zm-11 1L8.5 8.5l.94-2.06 2.06-.94-2.06-.94L8.5 2.5l-.94 2.06-2.06.94zm10 10l.94 2.06.94-2.06 2.06-.94-2.06-.94-.94-2.06-.94 2.06-2.06.94z\"/><path d=\"M17.41 7.96l-1.37-1.37c-.4-.4-.92-.59-1.43-.59-.52 0-1.04.2-1.43.59L10.3 9.45l-7.72 7.72c-.78.78-.78 2.05 0 2.83L4 21.41c.39.39.9.59 1.41.59.51 0 1.02-.2 1.41-.59l7.78-7.78 2.81-2.81c.8-.78.8-2.07 0-2.86zM5.41 20L4 18.59l7.72-7.72 1.47 1.35L5.41 20z\"/>\n",
              "  </svg>\n",
              "      </button>\n",
              "      \n",
              "  <style>\n",
              "    .colab-df-container {\n",
              "      display:flex;\n",
              "      flex-wrap:wrap;\n",
              "      gap: 12px;\n",
              "    }\n",
              "\n",
              "    .colab-df-convert {\n",
              "      background-color: #E8F0FE;\n",
              "      border: none;\n",
              "      border-radius: 50%;\n",
              "      cursor: pointer;\n",
              "      display: none;\n",
              "      fill: #1967D2;\n",
              "      height: 32px;\n",
              "      padding: 0 0 0 0;\n",
              "      width: 32px;\n",
              "    }\n",
              "\n",
              "    .colab-df-convert:hover {\n",
              "      background-color: #E2EBFA;\n",
              "      box-shadow: 0px 1px 2px rgba(60, 64, 67, 0.3), 0px 1px 3px 1px rgba(60, 64, 67, 0.15);\n",
              "      fill: #174EA6;\n",
              "    }\n",
              "\n",
              "    [theme=dark] .colab-df-convert {\n",
              "      background-color: #3B4455;\n",
              "      fill: #D2E3FC;\n",
              "    }\n",
              "\n",
              "    [theme=dark] .colab-df-convert:hover {\n",
              "      background-color: #434B5C;\n",
              "      box-shadow: 0px 1px 3px 1px rgba(0, 0, 0, 0.15);\n",
              "      filter: drop-shadow(0px 1px 2px rgba(0, 0, 0, 0.3));\n",
              "      fill: #FFFFFF;\n",
              "    }\n",
              "  </style>\n",
              "\n",
              "      <script>\n",
              "        const buttonEl =\n",
              "          document.querySelector('#df-d1d6896e-eac6-43f2-9acf-a6196a9e930b button.colab-df-convert');\n",
              "        buttonEl.style.display =\n",
              "          google.colab.kernel.accessAllowed ? 'block' : 'none';\n",
              "\n",
              "        async function convertToInteractive(key) {\n",
              "          const element = document.querySelector('#df-d1d6896e-eac6-43f2-9acf-a6196a9e930b');\n",
              "          const dataTable =\n",
              "            await google.colab.kernel.invokeFunction('convertToInteractive',\n",
              "                                                     [key], {});\n",
              "          if (!dataTable) return;\n",
              "\n",
              "          const docLinkHtml = 'Like what you see? Visit the ' +\n",
              "            '<a target=\"_blank\" href=https://colab.research.google.com/notebooks/data_table.ipynb>data table notebook</a>'\n",
              "            + ' to learn more about interactive tables.';\n",
              "          element.innerHTML = '';\n",
              "          dataTable['output_type'] = 'display_data';\n",
              "          await google.colab.output.renderOutput(dataTable, element);\n",
              "          const docLink = document.createElement('div');\n",
              "          docLink.innerHTML = docLinkHtml;\n",
              "          element.appendChild(docLink);\n",
              "        }\n",
              "      </script>\n",
              "    </div>\n",
              "  </div>\n",
              "  "
            ]
          },
          "metadata": {},
          "execution_count": 336
        }
      ]
    },
    {
      "cell_type": "markdown",
      "metadata": {
        "id": "qb5By2nIMS6m"
      },
      "source": [
        "## Análise dos Dados\n"
      ]
    },
    {
      "cell_type": "markdown",
      "metadata": {
        "id": "RYgvuebKNg8-"
      },
      "source": [
        "**Dicionário das variáveis** ([Disponível aqui ](https://docs.google.com/spreadsheets/d/1iWCNJcSutYqpULSQHlNyGInUvHg2BoUGoNRIGa6Szc4/edit?usp=sharing))\n",
        "* `id` - número de id gerado para identificar o imóvel\n",
        "* `name` - nome da propriedade anunciada\n",
        "* `host_id` - número de id do proprietário (anfitrião) da propriedade\n",
        "* `host_name` - Nome do anfitrião\n",
        "* `neighbourhood_group` - esta coluna não contém nenhum valor válido\n",
        "* `neighbourhood` - nome do bairro\n",
        "* `latitude` - coordenada da latitude da propriedade\n",
        "* `longitude` - coordenada da longitude da propriedade\n",
        "* `room_type` - informa o tipo de quarto que é oferecido\n",
        "* `price` - preço para alugar o imóvel\n",
        "* `minimum_nights` - quantidade mínima de noites para reservar\n",
        "* `number_of_reviews` - número de reviews que a propriedade possui\n",
        "* `last_review` - data do último review\n",
        "* `reviews_per_month` - quantidade de reviews por mês\n",
        "* `calculated_host_listings_count` - quantidade de imóveis do mesmo anfitrião\n",
        "* `availability_365` - número de dias de disponibilidade dentro de 365 dias.\n",
        "\n",
        "Antes de iniciar qualquer análise, vamos verificar a cara do nosso *dataset*, analisando as 5 primeiras entradas."
      ]
    },
    {
      "cell_type": "markdown",
      "metadata": {
        "id": "6-B_qtEaYEd-"
      },
      "source": [
        "### **Q1. Quantos atributos (variáveis) e quantas entradas o nosso conjunto de dados possui? Quais os tipos das variáveis?**"
      ]
    },
    {
      "cell_type": "code",
      "source": [
        "df.shape"
      ],
      "metadata": {
        "colab": {
          "base_uri": "https://localhost:8080/"
        },
        "id": "kQXEv71Y2lQE",
        "outputId": "e9bfd569-688d-4574-b3f8-8a2d16d93b97"
      },
      "execution_count": null,
      "outputs": [
        {
          "output_type": "execute_result",
          "data": {
            "text/plain": [
              "(24881, 18)"
            ]
          },
          "metadata": {},
          "execution_count": 337
        }
      ]
    },
    {
      "cell_type": "code",
      "metadata": {
        "id": "TFRK0tniLV-G",
        "colab": {
          "base_uri": "https://localhost:8080/"
        },
        "outputId": "2d6fc10b-30d9-4d27-d768-de65711c1b03"
      },
      "source": [
        "#Identificar o volume de dados do DataFrame:\n",
        "print(f\"Entradas:\\t {df.shape[0]}\")\n",
        "print(f\"Variáveis:\\t {df.shape[1]}\\n\")\n",
        "print(\"Tipos das Variáveis\\n\")\n",
        "\n",
        "#Verificar os tipos de variáveis do dataset:\n",
        "df.dtypes\n"
      ],
      "execution_count": null,
      "outputs": [
        {
          "output_type": "stream",
          "name": "stdout",
          "text": [
            "Entradas:\t 24881\n",
            "Variáveis:\t 18\n",
            "\n",
            "Tipos das Variáveis\n",
            "\n"
          ]
        },
        {
          "output_type": "execute_result",
          "data": {
            "text/plain": [
              "id                                  int64\n",
              "name                               object\n",
              "host_id                             int64\n",
              "host_name                          object\n",
              "neighbourhood_group               float64\n",
              "neighbourhood                      object\n",
              "latitude                          float64\n",
              "longitude                         float64\n",
              "room_type                          object\n",
              "price                               int64\n",
              "minimum_nights                      int64\n",
              "number_of_reviews                   int64\n",
              "last_review                        object\n",
              "reviews_per_month                 float64\n",
              "calculated_host_listings_count      int64\n",
              "availability_365                    int64\n",
              "number_of_reviews_ltm               int64\n",
              "license                           float64\n",
              "dtype: object"
            ]
          },
          "metadata": {},
          "execution_count": 338
        }
      ]
    },
    {
      "cell_type": "markdown",
      "metadata": {
        "id": "yz1urSUGW9iE"
      },
      "source": [
        "### **Q2. Qual a porcentagem de valores ausentes no *dataset*?**"
      ]
    },
    {
      "cell_type": "code",
      "metadata": {
        "id": "plk2FjbCXOqP",
        "colab": {
          "base_uri": "https://localhost:8080/"
        },
        "outputId": "6e0eb3d8-ed7e-4c55-a394-1e0b8d3e9263"
      },
      "source": [
        "#Ordenar em ordem decrescente as variáveis por seus valores ausentes:\n",
        "(df.isnull().sum()).sort_values(ascending=False) / df.shape[0] * 100"
      ],
      "execution_count": null,
      "outputs": [
        {
          "output_type": "execute_result",
          "data": {
            "text/plain": [
              "license                           100.000000\n",
              "neighbourhood_group               100.000000\n",
              "reviews_per_month                  30.818697\n",
              "last_review                        30.818697\n",
              "host_name                           0.470238\n",
              "name                                0.084402\n",
              "number_of_reviews                   0.000000\n",
              "number_of_reviews_ltm               0.000000\n",
              "availability_365                    0.000000\n",
              "calculated_host_listings_count      0.000000\n",
              "id                                  0.000000\n",
              "minimum_nights                      0.000000\n",
              "room_type                           0.000000\n",
              "longitude                           0.000000\n",
              "latitude                            0.000000\n",
              "neighbourhood                       0.000000\n",
              "host_id                             0.000000\n",
              "price                               0.000000\n",
              "dtype: float64"
            ]
          },
          "metadata": {},
          "execution_count": 339
        }
      ]
    },
    {
      "cell_type": "markdown",
      "source": [
        "### Para este exemplo, vê-se que:\n",
        "* license e neighbourhood_group possui possuem 100% de dados ausentes;\n",
        "* reviews_per_month e last_review possuem pouco mais de 30% de dados ausentes;\n",
        "\n",
        "Porém esses dados não vão influenciar nossa análise.\n"
      ],
      "metadata": {
        "id": "kfne2B1WJP5m"
      }
    },
    {
      "cell_type": "markdown",
      "metadata": {
        "id": "iHXvvHIxaoNc"
      },
      "source": [
        "### **Q3. Qual o tipo de distribuição das variáveis?** "
      ]
    },
    {
      "cell_type": "code",
      "metadata": {
        "id": "q2wWSfeRbmBo",
        "colab": {
          "base_uri": "https://localhost:8080/"
        },
        "outputId": "e2beef84-5e6f-49db-cf53-d15ef10b6689"
      },
      "source": [
        "#Plotar o histograma das variáveis numéricas:\n",
        "df.hist(bins=12, figsize=(15,10));"
      ],
      "execution_count": null,
      "outputs": [
        {
          "output_type": "display_data",
          "data": {
            "text/plain": [
              "<Figure size 1080x720 with 16 Axes>"
            ],
            "image/png": "[encoded data removed]"
          },
          "metadata": {
            "needs_background": "light"
          }
        }
      ]
    },
    {
      "cell_type": "code",
      "source": [
        "df.describe()"
      ],
      "metadata": {
        "colab": {
          "base_uri": "https://localhost:8080/"
        },
        "id": "IgqTnsXbQ9Gf",
        "outputId": "3024de44-76e9-43ae-b519-40f444516ade"
      },
      "execution_count": null,
      "outputs": [
        {
          "output_type": "execute_result",
          "data": {
            "text/plain": [
              "                 id       host_id  neighbourhood_group      latitude  \\\n",
              "count  2.488100e+04  2.488100e+04                  0.0  24881.000000   \n",
              "mean   7.027306e+16  1.224805e+08                  NaN    -22.966429   \n",
              "std    1.924194e+17  1.331108e+08                  NaN      0.035806   \n",
              "min    1.787800e+04  3.607000e+03                  NaN    -23.073750   \n",
              "25%    1.371424e+07  1.537175e+07                  NaN    -22.984710   \n",
              "50%    3.449573e+07  6.815757e+07                  NaN    -22.972660   \n",
              "75%    5.114942e+07  1.979569e+08                  NaN    -22.953580   \n",
              "max    6.529063e+17  4.648946e+08                  NaN    -22.749690   \n",
              "\n",
              "          longitude          price  minimum_nights  number_of_reviews  \\\n",
              "count  24881.000000   24881.000000    24881.000000       24881.000000   \n",
              "mean     -43.248109     745.395884        5.358426          16.818818   \n",
              "std        0.098092    4983.640074       26.044111          36.859241   \n",
              "min      -43.770380       0.000000        1.000000           0.000000   \n",
              "25%      -43.300460     180.000000        1.000000           0.000000   \n",
              "50%      -43.195790     300.000000        2.000000           3.000000   \n",
              "75%      -43.186050     600.000000        4.000000          15.000000   \n",
              "max      -43.104400  591723.000000     1125.000000         534.000000   \n",
              "\n",
              "       reviews_per_month  calculated_host_listings_count  availability_365  \\\n",
              "count       17213.000000                    24881.000000      24881.000000   \n",
              "mean            0.812952                        8.020297        214.774165   \n",
              "std             1.011219                       22.311380        131.693681   \n",
              "min             0.010000                        1.000000          0.000000   \n",
              "25%             0.130000                        1.000000         89.000000   \n",
              "50%             0.450000                        1.000000        212.000000   \n",
              "75%             1.100000                        4.000000        356.000000   \n",
              "max            18.740000                      184.000000        365.000000   \n",
              "\n",
              "       number_of_reviews_ltm  license  \n",
              "count           24881.000000      0.0  \n",
              "mean                5.294964      NaN  \n",
              "std                 9.900060      NaN  \n",
              "min                 0.000000      NaN  \n",
              "25%                 0.000000      NaN  \n",
              "50%                 1.000000      NaN  \n",
              "75%                 6.000000      NaN  \n",
              "max               189.000000      NaN  "
            ],
            "text/html": [
              "\n",
              "  <div id=\"df-e9558b2a-a7b1-4271-9849-ace31989593b\">\n",
              "    <div class=\"colab-df-container\">\n",
              "      <div>\n",
              "<style scoped>\n",
              "    .dataframe tbody tr th:only-of-type {\n",
              "        vertical-align: middle;\n",
              "    }\n",
              "\n",
              "    .dataframe tbody tr th {\n",
              "        vertical-align: top;\n",
              "    }\n",
              "\n",
              "    .dataframe thead th {\n",
              "        text-align: right;\n",
              "    }\n",
              "</style>\n",
              "<table border=\"1\" class=\"dataframe\">\n",
              "  <thead>\n",
              "    <tr style=\"text-align: right;\">\n",
              "      <th></th>\n",
              "      <th>id</th>\n",
              "      <th>host_id</th>\n",
              "      <th>neighbourhood_group</th>\n",
              "      <th>latitude</th>\n",
              "      <th>longitude</th>\n",
              "      <th>price</th>\n",
              "      <th>minimum_nights</th>\n",
              "      <th>number_of_reviews</th>\n",
              "      <th>reviews_per_month</th>\n",
              "      <th>calculated_host_listings_count</th>\n",
              "      <th>availability_365</th>\n",
              "      <th>number_of_reviews_ltm</th>\n",
              "      <th>license</th>\n",
              "    </tr>\n",
              "  </thead>\n",
              "  <tbody>\n",
              "    <tr>\n",
              "      <th>count</th>\n",
              "      <td>2.488100e+04</td>\n",
              "      <td>2.488100e+04</td>\n",
              "      <td>0.0</td>\n",
              "      <td>24881.000000</td>\n",
              "      <td>24881.000000</td>\n",
              "      <td>24881.000000</td>\n",
              "      <td>24881.000000</td>\n",
              "      <td>24881.000000</td>\n",
              "      <td>17213.000000</td>\n",
              "      <td>24881.000000</td>\n",
              "      <td>24881.000000</td>\n",
              "      <td>24881.000000</td>\n",
              "      <td>0.0</td>\n",
              "    </tr>\n",
              "    <tr>\n",
              "      <th>mean</th>\n",
              "      <td>7.027306e+16</td>\n",
              "      <td>1.224805e+08</td>\n",
              "      <td>NaN</td>\n",
              "      <td>-22.966429</td>\n",
              "      <td>-43.248109</td>\n",
              "      <td>745.395884</td>\n",
              "      <td>5.358426</td>\n",
              "      <td>16.818818</td>\n",
              "      <td>0.812952</td>\n",
              "      <td>8.020297</td>\n",
              "      <td>214.774165</td>\n",
              "      <td>5.294964</td>\n",
              "      <td>NaN</td>\n",
              "    </tr>\n",
              "    <tr>\n",
              "      <th>std</th>\n",
              "      <td>1.924194e+17</td>\n",
              "      <td>1.331108e+08</td>\n",
              "      <td>NaN</td>\n",
              "      <td>0.035806</td>\n",
              "      <td>0.098092</td>\n",
              "      <td>4983.640074</td>\n",
              "      <td>26.044111</td>\n",
              "      <td>36.859241</td>\n",
              "      <td>1.011219</td>\n",
              "      <td>22.311380</td>\n",
              "      <td>131.693681</td>\n",
              "      <td>9.900060</td>\n",
              "      <td>NaN</td>\n",
              "    </tr>\n",
              "    <tr>\n",
              "      <th>min</th>\n",
              "      <td>1.787800e+04</td>\n",
              "      <td>3.607000e+03</td>\n",
              "      <td>NaN</td>\n",
              "      <td>-23.073750</td>\n",
              "      <td>-43.770380</td>\n",
              "      <td>0.000000</td>\n",
              "      <td>1.000000</td>\n",
              "      <td>0.000000</td>\n",
              "      <td>0.010000</td>\n",
              "      <td>1.000000</td>\n",
              "      <td>0.000000</td>\n",
              "      <td>0.000000</td>\n",
              "      <td>NaN</td>\n",
              "    </tr>\n",
              "    <tr>\n",
              "      <th>25%</th>\n",
              "      <td>1.371424e+07</td>\n",
              "      <td>1.537175e+07</td>\n",
              "      <td>NaN</td>\n",
              "      <td>-22.984710</td>\n",
              "      <td>-43.300460</td>\n",
              "      <td>180.000000</td>\n",
              "      <td>1.000000</td>\n",
              "      <td>0.000000</td>\n",
              "      <td>0.130000</td>\n",
              "      <td>1.000000</td>\n",
              "      <td>89.000000</td>\n",
              "      <td>0.000000</td>\n",
              "      <td>NaN</td>\n",
              "    </tr>\n",
              "    <tr>\n",
              "      <th>50%</th>\n",
              "      <td>3.449573e+07</td>\n",
              "      <td>6.815757e+07</td>\n",
              "      <td>NaN</td>\n",
              "      <td>-22.972660</td>\n",
              "      <td>-43.195790</td>\n",
              "      <td>300.000000</td>\n",
              "      <td>2.000000</td>\n",
              "      <td>3.000000</td>\n",
              "      <td>0.450000</td>\n",
              "      <td>1.000000</td>\n",
              "      <td>212.000000</td>\n",
              "      <td>1.000000</td>\n",
              "      <td>NaN</td>\n",
              "    </tr>\n",
              "    <tr>\n",
              "      <th>75%</th>\n",
              "      <td>5.114942e+07</td>\n",
              "      <td>1.979569e+08</td>\n",
              "      <td>NaN</td>\n",
              "      <td>-22.953580</td>\n",
              "      <td>-43.186050</td>\n",
              "      <td>600.000000</td>\n",
              "      <td>4.000000</td>\n",
              "      <td>15.000000</td>\n",
              "      <td>1.100000</td>\n",
              "      <td>4.000000</td>\n",
              "      <td>356.000000</td>\n",
              "      <td>6.000000</td>\n",
              "      <td>NaN</td>\n",
              "    </tr>\n",
              "    <tr>\n",
              "      <th>max</th>\n",
              "      <td>6.529063e+17</td>\n",
              "      <td>4.648946e+08</td>\n",
              "      <td>NaN</td>\n",
              "      <td>-22.749690</td>\n",
              "      <td>-43.104400</td>\n",
              "      <td>591723.000000</td>\n",
              "      <td>1125.000000</td>\n",
              "      <td>534.000000</td>\n",
              "      <td>18.740000</td>\n",
              "      <td>184.000000</td>\n",
              "      <td>365.000000</td>\n",
              "      <td>189.000000</td>\n",
              "      <td>NaN</td>\n",
              "    </tr>\n",
              "  </tbody>\n",
              "</table>\n",
              "</div>\n",
              "      <button class=\"colab-df-convert\" onclick=\"convertToInteractive('df-e9558b2a-a7b1-4271-9849-ace31989593b')\"\n",
              "              title=\"Convert this dataframe to an interactive table.\"\n",
              "              style=\"display:none;\">\n",
              "        \n",
              "  <svg xmlns=\"http://www.w3.org/2000/svg\" height=\"24px\"viewBox=\"0 0 24 24\"\n",
              "       width=\"24px\">\n",
              "    <path d=\"M0 0h24v24H0V0z\" fill=\"none\"/>\n",
              "    <path d=\"M18.56 5.44l.94 2.06.94-2.06 2.06-.94-2.06-.94-.94-2.06-.94 2.06-2.06.94zm-11 1L8.5 8.5l.94-2.06 2.06-.94-2.06-.94L8.5 2.5l-.94 2.06-2.06.94zm10 10l.94 2.06.94-2.06 2.06-.94-2.06-.94-.94-2.06-.94 2.06-2.06.94z\"/><path d=\"M17.41 7.96l-1.37-1.37c-.4-.4-.92-.59-1.43-.59-.52 0-1.04.2-1.43.59L10.3 9.45l-7.72 7.72c-.78.78-.78 2.05 0 2.83L4 21.41c.39.39.9.59 1.41.59.51 0 1.02-.2 1.41-.59l7.78-7.78 2.81-2.81c.8-.78.8-2.07 0-2.86zM5.41 20L4 18.59l7.72-7.72 1.47 1.35L5.41 20z\"/>\n",
              "  </svg>\n",
              "      </button>\n",
              "      \n",
              "  <style>\n",
              "    .colab-df-container {\n",
              "      display:flex;\n",
              "      flex-wrap:wrap;\n",
              "      gap: 12px;\n",
              "    }\n",
              "\n",
              "    .colab-df-convert {\n",
              "      background-color: #E8F0FE;\n",
              "      border: none;\n",
              "      border-radius: 50%;\n",
              "      cursor: pointer;\n",
              "      display: none;\n",
              "      fill: #1967D2;\n",
              "      height: 32px;\n",
              "      padding: 0 0 0 0;\n",
              "      width: 32px;\n",
              "    }\n",
              "\n",
              "    .colab-df-convert:hover {\n",
              "      background-color: #E2EBFA;\n",
              "      box-shadow: 0px 1px 2px rgba(60, 64, 67, 0.3), 0px 1px 3px 1px rgba(60, 64, 67, 0.15);\n",
              "      fill: #174EA6;\n",
              "    }\n",
              "\n",
              "    [theme=dark] .colab-df-convert {\n",
              "      background-color: #3B4455;\n",
              "      fill: #D2E3FC;\n",
              "    }\n",
              "\n",
              "    [theme=dark] .colab-df-convert:hover {\n",
              "      background-color: #434B5C;\n",
              "      box-shadow: 0px 1px 3px 1px rgba(0, 0, 0, 0.15);\n",
              "      filter: drop-shadow(0px 1px 2px rgba(0, 0, 0, 0.3));\n",
              "      fill: #FFFFFF;\n",
              "    }\n",
              "  </style>\n",
              "\n",
              "      <script>\n",
              "        const buttonEl =\n",
              "          document.querySelector('#df-e9558b2a-a7b1-4271-9849-ace31989593b button.colab-df-convert');\n",
              "        buttonEl.style.display =\n",
              "          google.colab.kernel.accessAllowed ? 'block' : 'none';\n",
              "\n",
              "        async function convertToInteractive(key) {\n",
              "          const element = document.querySelector('#df-e9558b2a-a7b1-4271-9849-ace31989593b');\n",
              "          const dataTable =\n",
              "            await google.colab.kernel.invokeFunction('convertToInteractive',\n",
              "                                                     [key], {});\n",
              "          if (!dataTable) return;\n",
              "\n",
              "          const docLinkHtml = 'Like what you see? Visit the ' +\n",
              "            '<a target=\"_blank\" href=https://colab.research.google.com/notebooks/data_table.ipynb>data table notebook</a>'\n",
              "            + ' to learn more about interactive tables.';\n",
              "          element.innerHTML = '';\n",
              "          dataTable['output_type'] = 'display_data';\n",
              "          await google.colab.output.renderOutput(dataTable, element);\n",
              "          const docLink = document.createElement('div');\n",
              "          docLink.innerHTML = docLinkHtml;\n",
              "          element.appendChild(docLink);\n",
              "        }\n",
              "      </script>\n",
              "    </div>\n",
              "  </div>\n",
              "  "
            ]
          },
          "metadata": {},
          "execution_count": 341
        }
      ]
    },
    {
      "cell_type": "markdown",
      "metadata": {
        "id": "7x4aw1j5wNmn"
      },
      "source": [
        "### **Q4. Qual a média dos preços de aluguel?**"
      ]
    },
    {
      "cell_type": "code",
      "metadata": {
        "id": "ff-8gUahLk-C",
        "colab": {
          "base_uri": "https://localhost:8080/"
        },
        "outputId": "0b3f091d-130f-4348-b494-a66e2fedd084"
      },
      "source": [
        "#Ver a média da coluna 'price':\n",
        "df.price.mean()"
      ],
      "execution_count": null,
      "outputs": [
        {
          "output_type": "execute_result",
          "data": {
            "text/plain": [
              "745.3958844097906"
            ]
          },
          "metadata": {},
          "execution_count": 342
        }
      ]
    },
    {
      "cell_type": "markdown",
      "source": [
        "### **Q5. Há *outliers* presentes?**\n",
        "Podemos verificar que *'price'*,*'minimum_nights'* possuem valores com outlayers.\n",
        "\n",
        "Podemos verificar com o método `describe()` para as variáveis numéricas."
      ],
      "metadata": {
        "id": "ey5i6wmD5mig"
      }
    },
    {
      "cell_type": "markdown",
      "source": [
        "Podemos verificar que a média de preços é  745.39 e o maior preço é 591.723 Reais, e metade dos imóveis estão na faixa de 300 Reais, como também temos  preços = 0. Podemos ver ainda imóveis com mínimo de noites acima de 1100. "
      ],
      "metadata": {
        "id": "3a8oo_XF8YqR"
      }
    },
    {
      "cell_type": "code",
      "source": [
        "#Vamos criar um ponto de corte para os precos:\n",
        "q1_price = df.price.quantile(0.25)\n",
        "q3_price = df.price.quantile(0.75)\n",
        "IQR_price = q3_price - q1_price\n",
        "sup_price = q3_price + 1.5 * IQR_price\n",
        "inf_price = q1_price - 1.5 * IQR_price\n",
        "\n",
        "print(f'''Variável price=> Q1={q1_price},\n",
        "      Q3={q3_price}, \n",
        "      IQR={IQR_price}, \n",
        "      Limite superior={sup_price}, \n",
        "      Limite inferior={inf_price}''')\n",
        "\n",
        "#Vamos criar um ponto de corte para quantidade minimas de noites:\n",
        "q1_minimum_nights = df.minimum_nights.quantile(0.25)\n",
        "q3_minimum_nights = df.minimum_nights.quantile(0.75)\n",
        "IQR_minimum_nights = q3_minimum_nights - q1_minimum_nights\n",
        "sup_minimum_nights = q3_minimum_nights + 1.5 * IQR_minimum_nights\n",
        "inf_minimum_nights = q1_minimum_nights - 1.5 * IQR_minimum_nights\n",
        "\n",
        "print(f'''Variável minimum_nights=> Q1={q1_minimum_nights}, \n",
        "    Q3={q3_minimum_nights}, \n",
        "    IQR={IQR_minimum_nights}, \n",
        "    Limite superior={sup_minimum_nights}, \n",
        "    Limite inferior={inf_minimum_nights}''')\n"
      ],
      "metadata": {
        "colab": {
          "base_uri": "https://localhost:8080/"
        },
        "id": "v0jN1hXB73PZ",
        "outputId": "a2282ebb-0923-47fa-e61a-710940aa1006"
      },
      "execution_count": null,
      "outputs": [
        {
          "output_type": "stream",
          "name": "stdout",
          "text": [
            "Variável price=> Q1=180.0,\n",
            "      Q3=600.0, \n",
            "      IQR=420.0, \n",
            "      Limite superior=1230.0, \n",
            "      Limite inferior=-450.0\n",
            "Variável minimum_nights=> Q1=1.0, \n",
            "    Q3=4.0, \n",
            "    IQR=3.0, \n",
            "    Limite superior=8.5, \n",
            "    Limite inferior=-3.5\n"
          ]
        }
      ]
    },
    {
      "cell_type": "markdown",
      "source": [
        "* Boxplot para minimum_nights"
      ],
      "metadata": {
        "id": "YQ3594L3KJX_"
      }
    },
    {
      "cell_type": "code",
      "source": [
        "df.minimum_nights.plot(kind='box', vert=False, figsize=(15, 3))\n",
        "\n",
        "#Ver quantidade de valores acima de sup_minimum_nights para minimum_nights\n",
        "print(f\"minimum_nights: valores acima de {sup_minimum_nights} dias:\")\n",
        "print(f\"{len(df[df.minimum_nights > sup_minimum_nights])} entradas\")\n",
        "print(f\"{len(df[df.minimum_nights > sup_minimum_nights])/df.shape[0]*100:.4}%\")"
      ],
      "metadata": {
        "id": "sc4ILLiQEevb",
        "colab": {
          "base_uri": "https://localhost:8080/"
        },
        "outputId": "241c6c29-946f-4d74-d6ef-ef0c4a4215f2"
      },
      "execution_count": null,
      "outputs": [
        {
          "output_type": "stream",
          "name": "stdout",
          "text": [
            "minimum_nights: valores acima de 8.5 dias:\n",
            "1774 entradas\n",
            "7.13%\n"
          ]
        },
        {
          "output_type": "display_data",
          "data": {
            "text/plain": [
              "<Figure size 1080x216 with 1 Axes>"
            ],
            "image/png": "[encoded data removed]"
          },
          "metadata": {
            "needs_background": "light"
          }
        }
      ]
    },
    {
      "cell_type": "markdown",
      "source": [
        "Boxplot para price"
      ],
      "metadata": {
        "id": "KNu9aXUDHT4H"
      }
    },
    {
      "cell_type": "code",
      "source": [
        "df.price.plot(kind='box', vert=False, figsize=(15, 3))\n",
        "\n",
        "#Ver quantidade de valores acima de sup_minimum_nights para minimum_nights\n",
        "print(f\"price: valores acima de {sup_price} a valores = 0:\")\n",
        "print(f\"{len(df[df.price > sup_price])+len(df[df.price == 0])} entradas\")\n",
        "print(f\"{(len(df[df.price > sup_price])+len(df[df.price == 0])) / df.shape[0]*100:.4}%\")"
      ],
      "metadata": {
        "id": "T7awH6_sGdps",
        "colab": {
          "base_uri": "https://localhost:8080/"
        },
        "outputId": "6a7590d1-e3e8-4a7e-adb5-ddcd800f3d56"
      },
      "execution_count": null,
      "outputs": [
        {
          "output_type": "stream",
          "name": "stdout",
          "text": [
            "price: valores acima de 1230.0 a valores = 0:\n",
            "2479 entradas\n",
            "9.963%\n"
          ]
        },
        {
          "output_type": "display_data",
          "data": {
            "text/plain": [
              "<Figure size 1080x216 with 1 Axes>"
            ],
            "image/png": "[encoded data removed]"
          },
          "metadata": {
            "needs_background": "light"
          }
        }
      ]
    },
    {
      "cell_type": "code",
      "source": [
        "df_clean = df.copy()\n",
        "df_clean[df_clean.price > sup_price].index"
      ],
      "metadata": {
        "id": "UgsMQxGDI8oG",
        "colab": {
          "base_uri": "https://localhost:8080/"
        },
        "outputId": "e47ff6bb-8f0f-4c5d-9627-a46303780740"
      },
      "execution_count": null,
      "outputs": [
        {
          "output_type": "execute_result",
          "data": {
            "text/plain": [
              "Int64Index([    4,    10,    18,    19,    29,    35,    38,    40,    59,\n",
              "               64,\n",
              "            ...\n",
              "            24834, 24840, 24856, 24857, 24861, 24863, 24864, 24865, 24873,\n",
              "            24874],\n",
              "           dtype='int64', length=2472)"
            ]
          },
          "metadata": {},
          "execution_count": 346
        }
      ]
    },
    {
      "cell_type": "code",
      "source": [
        "#Eliminando linhas com outlayers\n",
        "df_clean = df.copy()\n",
        "df_clean.drop(df_clean[df_clean.price > sup_price].index, axis=0, inplace=True)\n",
        "df_clean.drop(df_clean[df_clean.price == 0].index, axis=0, inplace=True)\n",
        "df_clean.drop(df_clean[df_clean.minimum_nights > sup_minimum_nights].index, axis=0, inplace=True)\n",
        "\n",
        "#Histograma após limpeza dos dados\n",
        "df_clean.hist(bins=15, figsize=(15,10));"
      ],
      "metadata": {
        "id": "zv8Pr3snIkVM",
        "colab": {
          "base_uri": "https://localhost:8080/"
        },
        "outputId": "4abbc612-a620-414e-e3d0-17c01e623329"
      },
      "execution_count": null,
      "outputs": [
        {
          "output_type": "display_data",
          "data": {
            "text/plain": [
              "<Figure size 1080x720 with 16 Axes>"
            ],
            "image/png": "[encoded data removed]"
          },
          "metadata": {
            "needs_background": "light"
          }
        }
      ]
    },
    {
      "cell_type": "code",
      "source": [
        "#Boxplot minimun_nights após retirar outliers\n",
        "df_clean.minimum_nights.plot(kind='box', vert=False, figsize=(15, 3));"
      ],
      "metadata": {
        "id": "H7d4yfBeRkDF",
        "colab": {
          "base_uri": "https://localhost:8080/",
          "height": 211
        },
        "outputId": "0750c44e-072b-42c6-b59e-d85524a1b7ef"
      },
      "execution_count": null,
      "outputs": [
        {
          "output_type": "display_data",
          "data": {
            "text/plain": [
              "<Figure size 1080x216 with 1 Axes>"
            ],
            "image/png": "[encoded data removed]"
          },
          "metadata": {
            "needs_background": "light"
          }
        }
      ]
    },
    {
      "cell_type": "code",
      "source": [
        "#Boxplot price após retirar outliers\n",
        "df_clean.price.plot(kind='box', vert=False, figsize=(15, 3));"
      ],
      "metadata": {
        "id": "EwZbJM9HRnaK",
        "colab": {
          "base_uri": "https://localhost:8080/",
          "height": 211
        },
        "outputId": "d4fd97db-b56d-4f72-b934-8fd9a96d9c25"
      },
      "execution_count": null,
      "outputs": [
        {
          "output_type": "display_data",
          "data": {
            "text/plain": [
              "<Figure size 1080x216 with 1 Axes>"
            ],
            "image/png": "[encoded data removed]"
          },
          "metadata": {
            "needs_background": "light"
          }
        }
      ]
    },
    {
      "cell_type": "markdown",
      "metadata": {
        "id": "7b6RMWpuHKN-"
      },
      "source": [
        "### **Q6. Qual o tipo de imóvel mais alugado no Airbnb?**"
      ]
    },
    {
      "cell_type": "code",
      "metadata": {
        "id": "ueLPNWvPHgfB",
        "colab": {
          "base_uri": "https://localhost:8080/"
        },
        "outputId": "66b16b1c-96a1-4335-98e1-846cc5f0afbb"
      },
      "source": [
        "#Mostrar a quantidade de cada tipo de imóvel disponível:\n",
        "df_clean.room_type.value_counts()"
      ],
      "execution_count": null,
      "outputs": [
        {
          "output_type": "execute_result",
          "data": {
            "text/plain": [
              "Entire home/apt    15668\n",
              "Private room        4842\n",
              "Shared room          419\n",
              "Hotel room            54\n",
              "Name: room_type, dtype: int64"
            ]
          },
          "metadata": {},
          "execution_count": 350
        }
      ]
    },
    {
      "cell_type": "code",
      "metadata": {
        "id": "EvwoO-XAHhIm",
        "colab": {
          "base_uri": "https://localhost:8080/"
        },
        "outputId": "34dce0a2-7f7c-4800-92ad-bc1656fe6a2c"
      },
      "source": [
        "#Mostrar a porcentagem de cada tipo de imóvel disponível:\n",
        "df_clean.room_type.value_counts() / df_clean.shape[0]*100"
      ],
      "execution_count": null,
      "outputs": [
        {
          "output_type": "execute_result",
          "data": {
            "text/plain": [
              "Entire home/apt    74.669971\n",
              "Private room       23.075823\n",
              "Shared room         1.996855\n",
              "Hotel room          0.257351\n",
              "Name: room_type, dtype: float64"
            ]
          },
          "metadata": {},
          "execution_count": 351
        }
      ]
    },
    {
      "cell_type": "code",
      "source": [
        "def autolabel(values):\n",
        "  for i in values:\n",
        "    h = i.get_height()       \n",
        "    ax.annotate(f'{h:.2f}%', \n",
        "                xy=(i.get_x()+i.get_width()/2 ,h), \n",
        "                xytext=(0,3),\n",
        "                ha='center',\n",
        "                textcoords = 'offset points')"
      ],
      "metadata": {
        "id": "CecHsQDlLFbC"
      },
      "execution_count": null,
      "outputs": []
    },
    {
      "cell_type": "code",
      "source": [
        "tipo_acomodacao = (df_clean.room_type.value_counts()/df_clean.shape[0]*100).sort_values(ascending=False)\n",
        "\n",
        "print(tipo_acomodacao)\n",
        "df_acomodacao = pd.DataFrame([tipo_acomodacao.keys(),tipo_acomodacao.values]).transpose()\n",
        "\n",
        "df_acomodacao.columns=['Tipo_Acomodacao','Porcentagem']\n",
        "\n",
        "fig, ax = plt.subplots(figsize=(10,6))\n",
        "tipo_acomodacao = ax.bar(df_acomodacao['Tipo_Acomodacao'], df_acomodacao['Porcentagem'],0.5, label = 'Porcentagem')\n",
        "\n",
        "ax.set_title(\"Aluguel por tipo de imóvel (%)\")\n",
        "ax.set_xlabel(\"Tipo do Imóvel\")\n",
        "ax.set_ylabel(\"%\")\n",
        "autolabel(tipo_acomodacao)\n",
        "\n",
        "plt.tight_layout()"
      ],
      "metadata": {
        "id": "ToqHu3_kW0fz",
        "colab": {
          "base_uri": "https://localhost:8080/",
          "height": 528
        },
        "outputId": "de81400c-292f-411d-cc09-1e2d89d1a0d3"
      },
      "execution_count": null,
      "outputs": [
        {
          "output_type": "stream",
          "name": "stdout",
          "text": [
            "Entire home/apt    74.669971\n",
            "Private room       23.075823\n",
            "Shared room         1.996855\n",
            "Hotel room          0.257351\n",
            "Name: room_type, dtype: float64\n"
          ]
        },
        {
          "output_type": "display_data",
          "data": {
            "text/plain": [
              "<Figure size 720x432 with 1 Axes>"
            ],
            "image/png": "[encoded data removed]"
          },
          "metadata": {
            "needs_background": "light"
          }
        }
      ]
    },
    {
      "cell_type": "code",
      "source": [
        "tipo_acomodacao = (df_clean.groupby('room_type').price.mean().sort_values(ascending=False))\n",
        "df_acomodacao = pd.DataFrame([tipo_acomodacao.keys(),tipo_acomodacao.values]).transpose()\n",
        "df_acomodacao.columns=['Room_type','Mean']\n",
        "\n",
        "fig, ax = plt.subplots(figsize=(10,6))\n",
        "tipo_acomodacao = ax.bar(df_acomodacao['Room_type'],df_acomodacao['Mean'],0.5, label = 'Média')\n",
        "\n",
        "ax.set_title(\"Média de preço por tipo de imóvel\")\n",
        "ax.set_xlabel(\"Tipo do Imóvel\")\n",
        "ax.set_ylabel(\"Média de preço\")\n",
        "autolabel(tipo_acomodacao)\n",
        "\n",
        "plt.tight_layout()"
      ],
      "metadata": {
        "id": "SNsJZiMwvh84",
        "colab": {
          "base_uri": "https://localhost:8080/",
          "height": 441
        },
        "outputId": "e36f8ef9-1c6b-4a0f-ccaa-eb1fab6e43b1"
      },
      "execution_count": null,
      "outputs": [
        {
          "output_type": "display_data",
          "data": {
            "text/plain": [
              "<Figure size 720x432 with 1 Axes>"
            ],
            "image/png": "[encoded data removed]"
          },
          "metadata": {
            "needs_background": "light"
          }
        }
      ]
    },
    {
      "cell_type": "markdown",
      "metadata": {
        "id": "MFa5NbnLJMcd"
      },
      "source": [
        "### **Q8. Qual a localidade mais cara do dataset?**\n",
        "Uma maneira de se verificar uma variável em função da outra é usando `groupby()`. No caso, queremos comparar os bairros (*neighbourhoods*) a partir do preço de locação.\n"
      ]
    },
    {
      "cell_type": "code",
      "metadata": {
        "id": "MD_xa143JZpi"
      },
      "source": [
        "#Ver preços por bairros, na média\n",
        "df_clean.groupby('neighbourhood').price.mean().sort_values(ascending=False)\n",
        "bairros_media  =  df_clean.groupby('neighbourhood').price.mean().sort_values(ascending=False)\n",
        "bairros_minimo =  df_clean.groupby('neighbourhood').price.min().sort_values(ascending=False)\n",
        "bairros_maximo =  df_clean.groupby('neighbourhood').price.max().sort_values(ascending=False)\n",
        "bairros_qt     =  df_clean['neighbourhood'].value_counts()"
      ],
      "execution_count": null,
      "outputs": []
    },
    {
      "cell_type": "code",
      "source": [
        "bairro = (df_clean.groupby('neighbourhood').price.mean().sort_values(ascending=False))\n",
        "bairro = bairro.head().sort_values()\n",
        "df_acomodacao = pd.DataFrame([bairro.keys(),bairro.values]).transpose()\n",
        "df_acomodacao.columns=['Bairro','Mean']\n",
        "\n",
        "fig, ax = plt.subplots(figsize=(10,6))\n",
        "tipo_acomodacao = ax.barh(df_acomodacao['Bairro'],df_acomodacao['Mean'],0.5)\n",
        "\n",
        "ax.set_title(\"Média de preço por bairros\")\n",
        "ax.set_xlabel(\"Média de preço\")\n",
        "ax.set_ylabel(\"Bairros\")\n",
        "\n",
        "plt.tight_layout()"
      ],
      "metadata": {
        "colab": {
          "base_uri": "https://localhost:8080/",
          "height": 441
        },
        "id": "I4rJLqJ3oaLz",
        "outputId": "1f788711-4c64-4880-fd2b-f7ff35661cd9"
      },
      "execution_count": null,
      "outputs": [
        {
          "output_type": "display_data",
          "data": {
            "text/plain": [
              "<Figure size 720x432 with 1 Axes>"
            ],
            "image/png": "[encoded data removed]"
          },
          "metadata": {
            "needs_background": "light"
          }
        }
      ]
    },
    {
      "cell_type": "code",
      "source": [
        "bairro = (df_clean.groupby('neighbourhood').price.mean().sort_values(ascending=False))\n",
        "bairro = bairro.tail().sort_values(ascending=False)\n",
        "df_acomodacao = pd.DataFrame([bairro.keys(),bairro.values]).transpose()\n",
        "df_acomodacao.columns=['Bairro','Mean']\n",
        "\n",
        "fig, ax = plt.subplots(figsize=(10,6))\n",
        "tipo_acomodacao = ax.barh(df_acomodacao['Bairro'],df_acomodacao['Mean'],0.5)\n",
        "\n",
        "ax.set_title(\"Média de preço por bairros\")\n",
        "ax.set_xlabel(\"Média de preço\")\n",
        "ax.set_ylabel(\"Bairros\")\n",
        "\n",
        "plt.tight_layout()"
      ],
      "metadata": {
        "id": "ANIgJFX2-NYu",
        "colab": {
          "base_uri": "https://localhost:8080/",
          "height": 441
        },
        "outputId": "cfb04196-490b-41cc-e818-5c35c8ac8f03"
      },
      "execution_count": null,
      "outputs": [
        {
          "output_type": "display_data",
          "data": {
            "text/plain": [
              "<Figure size 720x432 with 1 Axes>"
            ],
            "image/png": "[encoded data removed]"
          },
          "metadata": {
            "needs_background": "light"
          }
        }
      ]
    },
    {
      "cell_type": "markdown",
      "metadata": {
        "id": "vTneAMRUYvr1"
      },
      "source": [
        "### **Q7. Qual é a média do mínimo de noites para aluguel (minimum_nights)?**"
      ]
    },
    {
      "cell_type": "code",
      "metadata": {
        "id": "_VzNhrEgY82N",
        "colab": {
          "base_uri": "https://localhost:8080/"
        },
        "outputId": "84286256-8ac2-4f02-de95-9327f5141a4f"
      },
      "source": [
        "#Ver a média da coluna `minimum_nights``\n",
        "df_clean.minimum_nights.mean()"
      ],
      "execution_count": null,
      "outputs": [
        {
          "output_type": "execute_result",
          "data": {
            "text/plain": [
              "2.6246485249964255"
            ]
          },
          "metadata": {},
          "execution_count": 358
        }
      ]
    },
    {
      "cell_type": "markdown",
      "metadata": {
        "id": "mqc_fLef4sZn"
      },
      "source": [
        "### **Q7. Qual a média de preço por tipo de imóvel?**"
      ]
    },
    {
      "cell_type": "code",
      "source": [
        "df_clean.groupby('room_type').price.mean().sort_values(ascending=False)"
      ],
      "metadata": {
        "colab": {
          "base_uri": "https://localhost:8080/"
        },
        "id": "yVgKAGCI5BM1",
        "outputId": "8cb01896-109f-4f89-d0fc-d8478628a51f"
      },
      "execution_count": null,
      "outputs": [
        {
          "output_type": "execute_result",
          "data": {
            "text/plain": [
              "room_type\n",
              "Entire home/apt    388.088971\n",
              "Hotel room         318.111111\n",
              "Private room       245.208385\n",
              "Shared room        180.133652\n",
              "Name: price, dtype: float64"
            ]
          },
          "metadata": {},
          "execution_count": 359
        }
      ]
    },
    {
      "cell_type": "markdown",
      "metadata": {
        "id": "GkvAg623RjoR"
      },
      "source": [
        "## Conclusões\n"
      ]
    },
    {
      "cell_type": "markdown",
      "metadata": {
        "id": "rbZ3Hsy9Ypw8"
      },
      "source": [
        "Pode-se concluir que Rio de Janeiro -muito conhecido no Brasil pelas suas praias- possuiu opções de imóveis para todos os bolsos. A média de noites que os imóveis são alugados é de aproximadamente 2, na localidade mais cara *Anchieta* você iria gastar uma média de 800,00 Reais, e caso resolvesse ficar na opção mais barata sua conta iria ficarm em torno de 50 Reais, no bairro *Jardim América*.\n",
        "\n",
        "Aproximadamente 70% dos imóveis alugados são do tipo casa ou apartamento inteiro, a média de preço deste tipo de imóvel é de 388 Reais. A opção mais em conta seria um quarto compartilhado por com uma média de aproximadamente 180,00 Reais."
      ]
    }
  ]
}